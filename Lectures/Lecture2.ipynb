{
 "cells": [
  {
   "attachments": {},
   "cell_type": "markdown",
   "metadata": {},
   "source": [
    "# Lecture 2"
   ]
  },
  {
   "attachments": {},
   "cell_type": "markdown",
   "metadata": {},
   "source": [
    "## Review\n",
    "Sign in Roster: \n",
    "    * Name\n",
    "    * AU email (if you have one, personal if you don't)\n",
    "    * github username \n",
    "    * \n",
    "\n",
    "\n",
    "Environment choice can have a significant impact on configuration control. Several methods exist for control, be it through package management systems like Conda, or through strict Docker implementation. Regardless, version numbers are important to know, and building the correct environment for your problem is key. Configuration management on a greater scale can be achieved with using code repositories such as GitHub (GitLab, GitHub Classroom, etc.)."
   ]
  },
  {
   "attachments": {},
   "cell_type": "markdown",
   "metadata": {},
   "source": [
    "## Git Basics\n",
    "Video of Dr. Taylor installing Git, Miniconda, and VSCode for Microsoft Machines: \n",
    "\n",
    "        https://drive.google.com/file/d/1BizOH_LtS0wUka2xt4p_CXj9I-s8jn01/view?ts=64f878b5\n",
    "        https://drive.google.com/file/d/19mw0TTd7cyjQzevqSWETz4_p1j_CwthB/view?ts=64f878d9\n",
    "\n",
    "\n",
    "\n"
   ]
  },
  {
   "attachments": {},
   "cell_type": "markdown",
   "metadata": {},
   "source": [
    "## Side-Chat about Markdown vs. Notebooks"
   ]
  },
  {
   "attachments": {},
   "cell_type": "markdown",
   "metadata": {},
   "source": [
    "## Data Structures "
   ]
  },
  {
   "attachments": {},
   "cell_type": "markdown",
   "metadata": {},
   "source": [
    "## Intro to Object Oriented Programing (OOP)\n",
    "\n",
    "Statements "
   ]
  },
  {
   "attachments": {},
   "cell_type": "markdown",
   "metadata": {},
   "source": [
    "## HOMEWORK"
   ]
  }
 ],
 "metadata": {
  "language_info": {
   "name": "python"
  },
  "orig_nbformat": 4
 },
 "nbformat": 4,
 "nbformat_minor": 2
}
