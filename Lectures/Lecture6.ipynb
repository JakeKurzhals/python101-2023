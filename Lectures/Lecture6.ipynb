{
 "cells": [
  {
   "cell_type": "markdown",
   "metadata": {},
   "source": [
    "# Lecture 6\n",
    "\n",
    "UNDER CONSTRUCTION DO NOT LOOK AT THE MAN BEHIND THE CURTAIN!!!!\n",
    "Introduction to Pandas and DataFrames\n",
    "Generating Data with Generators\n",
    "How to load data from internet\n",
    "    Downloading .csv\n",
    "    https://realpython.com/python-download-file-from-url/\n",
    "    from urllib.request import urlretrieve\n",
    "    urlretrieve(url, filename)\n",
    "\n",
    "Realistically plotting and assessing data\n",
    "    Numpy assessments\n",
    "    Plt plotting\n",
    "        axis, legends, scales\n",
    "\n",
    "\n"
   ]
  }
 ],
 "metadata": {
  "language_info": {
   "name": "python"
  },
  "orig_nbformat": 4
 },
 "nbformat": 4,
 "nbformat_minor": 2
}
