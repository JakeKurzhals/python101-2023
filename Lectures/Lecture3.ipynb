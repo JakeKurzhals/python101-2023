{
 "cells": [
  {
   "cell_type": "markdown",
   "metadata": {},
   "source": [
    "# Lecture 3\n",
    "\n"
   ]
  },
  {
   "cell_type": "markdown",
   "metadata": {},
   "source": [
    "## Review\n",
    "### Git Hints\n",
    "Visually how git works for visual learners. \n",
    "\n",
    "### Indexing Notes\n",
    "\n",
    "Indexing operator:  [ ]\n",
    "\n",
    "You can index:\n",
    "\n",
    "* Strings\n",
    "* Lists\n",
    "* Tuples\n",
    "* Dictionaries\n",
    "\n",
    "BUT, be mindful of mutability of the object. (Tuple vs. List example. )\n"
   ]
  },
  {
   "cell_type": "markdown",
   "metadata": {},
   "source": [
    "## Intro to Object Oriented Programing (OOP)\n",
    "\n",
    "* Classes\n",
    "* Attributes\n",
    "* Methods"
   ]
  },
  {
   "cell_type": "code",
   "execution_count": 1,
   "metadata": {},
   "outputs": [],
   "source": [
    "class Dog():\n",
    "    \"\"\" Dogs are the best\"\"\"\n",
    "    # No attributes yet\n",
    "    def __init__(self, color:str = None):\n",
    "        self.color = color\n",
    "\n",
    "    # Only 1 method\n",
    "    def fetch(self, toy:str = 'ball') -> str:\n",
    "        return toy"
   ]
  },
  {
   "cell_type": "code",
   "execution_count": 5,
   "metadata": {},
   "outputs": [
    {
     "name": "stdout",
     "output_type": "stream",
     "text": [
      "None\n",
      "black\n",
      "ball\n",
      "stick\n"
     ]
    }
   ],
   "source": [
    "Cass = Dog()\n",
    "print(Cass.color)\n",
    "Cass.color = 'black'\n",
    "print(Cass.color)\n",
    "\n",
    "returned_toy = Cass.fetch()\n",
    "print(returned_toy)\n",
    "real_return = Cass.fetch('stick')\n",
    "print(real_return)\n",
    "\n"
   ]
  },
  {
   "cell_type": "markdown",
   "metadata": {},
   "source": [
    "### Data Class\n",
    "\n",
    "For when you need attributes but don't have a need for a method"
   ]
  },
  {
   "cell_type": "code",
   "execution_count": 6,
   "metadata": {},
   "outputs": [
    {
     "name": "stdout",
     "output_type": "stream",
     "text": [
      "Steggo is the pups favorite, and we only have 2 left!\n"
     ]
    }
   ],
   "source": [
    "from dataclasses import dataclass\n",
    "@dataclass\n",
    "class squeakyToy:\n",
    "    \"\"\"Data class to hold the attributes for a given squeaky toy. \n",
    "        Yes, I love my dogs. \n",
    "    \"\"\"\n",
    "\n",
    "    def __init__(self, name:str, texture:str, size:float, quantity:int):\n",
    "        self.name = name\n",
    "        self.texture = texture\n",
    "        self.size = size\n",
    "        self.quantity = quantity\n",
    "\n",
    "\n",
    "pumpkin = squeakyToy('Pumpkin', 'soft and fluffy', 6.32, 1)\n",
    "steggo = squeakyToy(name='Steggo', texture='Canvas', size=11.2, quantity=2)\n",
    "\n",
    "print(f'Steggo is the pups favorite, and we only have {steggo.quantity} left!')\n",
    "\n"
   ]
  },
  {
   "cell_type": "code",
   "execution_count": 7,
   "metadata": {},
   "outputs": [
    {
     "name": "stdout",
     "output_type": "stream",
     "text": [
      "Steggo is the pups favorite, and we only have 1 left!\n"
     ]
    }
   ],
   "source": [
    "steggo.quantity -= 1\n",
    "print(f'Steggo is the pups favorite, and we only have {steggo.quantity} left!')"
   ]
  },
  {
   "cell_type": "markdown",
   "metadata": {},
   "source": [
    "### User Defined Functions\n",
    "\n",
    "You can make any function do anything, in or outside of a class structure. We will not cover SCOPE in this course, but it should be noted that within a function, only things within the function or global scope may be used. "
   ]
  },
  {
   "cell_type": "code",
   "execution_count": 12,
   "metadata": {},
   "outputs": [],
   "source": [
    "def simple_func():\n",
    "    \"\"\" Simple function that does....something...what do you want it to do?\"\"\"\n",
    "    simple_string = 'I dont know what to do!!!!'\n",
    "    return simple_string\n"
   ]
  },
  {
   "cell_type": "code",
   "execution_count": 13,
   "metadata": {},
   "outputs": [
    {
     "data": {
      "text/plain": [
       "'Things are going great! I dont know what to do!!!!'"
      ]
     },
     "execution_count": 13,
     "metadata": {},
     "output_type": "execute_result"
    }
   ],
   "source": [
    "f'Things are going great! {simple_func()}'"
   ]
  },
  {
   "cell_type": "markdown",
   "metadata": {},
   "source": [
    "## Assignment Tips/Tricks and Auto Assignment\n",
    "\n",
    "Variables have no meaning in and of themselves. Meaning is only applied to the VALUE assigned to them. "
   ]
  },
  {
   "cell_type": "code",
   "execution_count": null,
   "metadata": {},
   "outputs": [],
   "source": [
    "a = 111\n",
    "b = 222\n",
    "a, b = b, a\n"
   ]
  },
  {
   "cell_type": "code",
   "execution_count": null,
   "metadata": {},
   "outputs": [],
   "source": [
    "print(f'a = {a}')\n",
    "print(f'b = {b}')"
   ]
  },
  {
   "cell_type": "code",
   "execution_count": null,
   "metadata": {},
   "outputs": [],
   "source": [
    "# AutoAssigning\n",
    "fancy_number = 0\n",
    "fancy_number += 3\n",
    "fancy_number -= 2\n",
    "fancy_number *= 7\n",
    "fancy_number /= 3\n",
    "fancy_number"
   ]
  },
  {
   "cell_type": "markdown",
   "metadata": {},
   "source": [
    "## Important Types/Booleans\n",
    "\n",
    "We discussed the 'None' type previously, but booleans are equally important. \n",
    "\n",
    "Boolean ==        Int\n",
    "\n",
    "True    ==        1\n",
    "\n",
    "False   ==        0"
   ]
  },
  {
   "cell_type": "markdown",
   "metadata": {},
   "source": [
    "Comparison statements are based upon simply True or False, and often used for logical assessments or function tests. \n",
    "\n",
    "The comparison operators are: \n",
    "\n",
    "==, !=, <, >, <=, >=, & (and), | (or)\n",
    "\n",
    "Each comparison returns True/False"
   ]
  },
  {
   "cell_type": "code",
   "execution_count": 11,
   "metadata": {},
   "outputs": [
    {
     "name": "stdout",
     "output_type": "stream",
     "text": [
      "False\n",
      "True\n",
      "True\n",
      "False\n",
      "False\n"
     ]
    }
   ],
   "source": [
    "aa = 30 \n",
    "bb = 30.01\n",
    "\n",
    "print(aa == bb)\n",
    "print(aa != bb)\n",
    "\n",
    "# Standard Logic\n",
    "print(True & True)\n",
    "print(False & False)\n",
    "print(False & True)\n"
   ]
  },
  {
   "cell_type": "markdown",
   "metadata": {},
   "source": [
    "## Comparison Operators\n",
    "\n",
    "        if, else, elif\n",
    "\n",
    "But also many other options within these to give them POWER\n",
    "\n",
    "        and, or, is, is not, in, (Dict 'in' only applies to KEYS)"
   ]
  },
  {
   "cell_type": "code",
   "execution_count": 14,
   "metadata": {},
   "outputs": [
    {
     "name": "stdout",
     "output_type": "stream",
     "text": [
      "Dogs rule, cats drool\n",
      "[4, 33, 5, 92, 'squirrel']\n"
     ]
    }
   ],
   "source": [
    "dog = 9001\n",
    "cat = 4\n",
    "\n",
    "if dog > cat:\n",
    "    print('Dogs rule, cats drool')\n",
    "\n",
    "aaa = [4, 33, 5, 92, 'bag', 'squirrel']\n",
    "if 'bag' in aaa:\n",
    "    aaa.remove('bag')\n",
    "\n",
    "print(aaa)"
   ]
  },
  {
   "cell_type": "markdown",
   "metadata": {},
   "source": [
    "## Loops\n",
    "\n",
    "Most programming strength comes from the speed in which they can compute numerical and logical problems within looped structures to acheive higher level goals. \n",
    "\n",
    "        for \n",
    "\n",
    "Predefined scope and termination condition for the loop based on initialization\n",
    "\n",
    "        while\n",
    "\n",
    "Infinite potential, usually given some termination contidion. Possible to eat all your memory and kill your computer if you're not careful. "
   ]
  },
  {
   "cell_type": "code",
   "execution_count": 15,
   "metadata": {},
   "outputs": [
    {
     "name": "stdout",
     "output_type": "stream",
     "text": [
      "4\n",
      "33\n",
      "5\n",
      "92\n",
      "squirrel\n"
     ]
    }
   ],
   "source": [
    "for thingy in aaa:\n",
    "    print(thingy)"
   ]
  },
  {
   "cell_type": "code",
   "execution_count": 16,
   "metadata": {},
   "outputs": [
    {
     "name": "stdout",
     "output_type": "stream",
     "text": [
      "0 4\n",
      "1 33\n",
      "2 5\n",
      "3 92\n",
      "4 squirrel\n"
     ]
    }
   ],
   "source": [
    "for index, thingy in enumerate(aaa):\n",
    "    print(index, thingy)"
   ]
  },
  {
   "cell_type": "code",
   "execution_count": 18,
   "metadata": {},
   "outputs": [
    {
     "name": "stdout",
     "output_type": "stream",
     "text": [
      "10\n",
      "20\n",
      "30\n",
      "40\n",
      "50\n",
      "60\n",
      "70\n",
      "80\n",
      "90\n",
      "100\n",
      "110\n",
      "120\n",
      "130\n",
      "140\n",
      "150\n",
      "160\n",
      "170\n",
      "180\n",
      "190\n",
      "200\n",
      "210\n",
      "220\n",
      "230\n",
      "240\n",
      "250\n",
      "260\n",
      "270\n",
      "280\n",
      "290\n",
      "300\n",
      "310\n",
      "320\n",
      "330\n",
      "340\n",
      "350\n",
      "360\n",
      "370\n",
      "380\n",
      "390\n",
      "400\n"
     ]
    }
   ],
   "source": [
    "count = 0\n",
    "while count < 400:\n",
    "    count += 1\n",
    "    if not count % 10:\n",
    "        print(count)"
   ]
  },
  {
   "cell_type": "markdown",
   "metadata": {},
   "source": [
    "### list comprehension \n",
    "\n",
    "Ultimate pythonic way of doing for loops for lists, dictionaries, etc. Instead of making the loop with the standard indented structure, moves to a single line. \n",
    "\n",
    "Pros: \n",
    "\n",
    "    - Less verbose code\n",
    "    - Makes you look cool\n",
    "\n",
    "Cons:\n",
    "\n",
    "    - Readability for others"
   ]
  },
  {
   "cell_type": "code",
   "execution_count": 34,
   "metadata": {},
   "outputs": [
    {
     "data": {
      "text/plain": [
       "[[0,\n",
       "  1,\n",
       "  2,\n",
       "  3,\n",
       "  4,\n",
       "  5,\n",
       "  6,\n",
       "  7,\n",
       "  8,\n",
       "  9,\n",
       "  10,\n",
       "  11,\n",
       "  12,\n",
       "  13,\n",
       "  14,\n",
       "  15,\n",
       "  16,\n",
       "  17,\n",
       "  18,\n",
       "  19,\n",
       "  20,\n",
       "  21,\n",
       "  22,\n",
       "  23,\n",
       "  24,\n",
       "  25,\n",
       "  26,\n",
       "  27,\n",
       "  28,\n",
       "  29],\n",
       " range(0, 30)]"
      ]
     },
     "execution_count": 34,
     "metadata": {},
     "output_type": "execute_result"
    }
   ],
   "source": [
    "[x for x in range(6)]\n",
    "[list(range(30)), range(30)]\n"
   ]
  },
  {
   "cell_type": "code",
   "execution_count": 37,
   "metadata": {},
   "outputs": [
    {
     "data": {
      "text/plain": [
       "{6: 6,\n",
       " 7: 7,\n",
       " 8: 8,\n",
       " 9: 9,\n",
       " 10: 10,\n",
       " 11: 11,\n",
       " 12: 12,\n",
       " 13: 13,\n",
       " 14: 14,\n",
       " 15: 15,\n",
       " 16: 16,\n",
       " 17: 17,\n",
       " 18: 18,\n",
       " 19: 19,\n",
       " 20: 20,\n",
       " 21: 21,\n",
       " 22: 22,\n",
       " 23: 23,\n",
       " 24: 24,\n",
       " 25: 25,\n",
       " 26: 26,\n",
       " 27: 27,\n",
       " 28: 28,\n",
       " 29: 29}"
      ]
     },
     "execution_count": 37,
     "metadata": {},
     "output_type": "execute_result"
    }
   ],
   "source": [
    "{key:value for (key, value) in zip(range(30), range(30)) if key > 5}"
   ]
  },
  {
   "cell_type": "markdown",
   "metadata": {},
   "source": []
  }
 ],
 "metadata": {
  "kernelspec": {
   "display_name": "eeng765",
   "language": "python",
   "name": "python3"
  },
  "language_info": {
   "codemirror_mode": {
    "name": "ipython",
    "version": 3
   },
   "file_extension": ".py",
   "mimetype": "text/x-python",
   "name": "python",
   "nbconvert_exporter": "python",
   "pygments_lexer": "ipython3",
   "version": "3.10.12"
  },
  "orig_nbformat": 4
 },
 "nbformat": 4,
 "nbformat_minor": 2
}
